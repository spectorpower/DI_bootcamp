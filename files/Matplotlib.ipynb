{
  "nbformat": 4,
  "nbformat_minor": 0,
  "metadata": {
    "colab": {
      "provenance": []
    },
    "kernelspec": {
      "name": "python3",
      "display_name": "Python 3"
    },
    "language_info": {
      "name": "python"
    }
  },
  "cells": [
    {
      "cell_type": "code",
      "execution_count": 84,
      "metadata": {
        "id": "0TkhkQkIPVM-"
      },
      "outputs": [],
      "source": [
        "import pandas as pd\n",
        "\n",
        "# Sample data\n",
        "data = {\n",
        "    'Country': ['USA', 'USA', 'Canada', 'Canada'],\n",
        "    'City': ['New York', 'Los Angeles', 'Toronto', 'Vancouver'],\n",
        "    'Population': [8419000, 3971000, 2930000, 675218],\n",
        "    'Date':['2023-07-01','2023-07-04', '2023-07-03', '2023-07-02'],\n",
        "    'Temperature': [25, 31, 28, 21]\n",
        "}\n",
        "\n",
        "df = pd.DataFrame(data)\n",
        "df['Date'] = pd.to_datetime(df['Date'])\n",
        "df.set_index(['Country', 'City', 'Date'], inplace=True)\n",
        "\n",
        "\n"
      ]
    },
    {
      "cell_type": "code",
      "source": [
        "canada_df = df.loc['Canada']\n",
        "canada_df"
      ],
      "metadata": {
        "colab": {
          "base_uri": "https://localhost:8080/",
          "height": 143
        },
        "id": "4SWYAGpgB8no",
        "outputId": "85cfa755-f182-4c9c-efd9-9c4e707c92e0"
      },
      "execution_count": 89,
      "outputs": [
        {
          "output_type": "execute_result",
          "data": {
            "text/plain": [
              "                      Population  Temperature\n",
              "City      Date                               \n",
              "Toronto   2023-07-03     2930000           28\n",
              "Vancouver 2023-07-02      675218           21"
            ],
            "text/html": [
              "\n",
              "  <div id=\"df-876be6b2-a5cd-4bdf-953e-45fcb0c12ede\" class=\"colab-df-container\">\n",
              "    <div>\n",
              "<style scoped>\n",
              "    .dataframe tbody tr th:only-of-type {\n",
              "        vertical-align: middle;\n",
              "    }\n",
              "\n",
              "    .dataframe tbody tr th {\n",
              "        vertical-align: top;\n",
              "    }\n",
              "\n",
              "    .dataframe thead th {\n",
              "        text-align: right;\n",
              "    }\n",
              "</style>\n",
              "<table border=\"1\" class=\"dataframe\">\n",
              "  <thead>\n",
              "    <tr style=\"text-align: right;\">\n",
              "      <th></th>\n",
              "      <th></th>\n",
              "      <th>Population</th>\n",
              "      <th>Temperature</th>\n",
              "    </tr>\n",
              "    <tr>\n",
              "      <th>City</th>\n",
              "      <th>Date</th>\n",
              "      <th></th>\n",
              "      <th></th>\n",
              "    </tr>\n",
              "  </thead>\n",
              "  <tbody>\n",
              "    <tr>\n",
              "      <th>Toronto</th>\n",
              "      <th>2023-07-03</th>\n",
              "      <td>2930000</td>\n",
              "      <td>28</td>\n",
              "    </tr>\n",
              "    <tr>\n",
              "      <th>Vancouver</th>\n",
              "      <th>2023-07-02</th>\n",
              "      <td>675218</td>\n",
              "      <td>21</td>\n",
              "    </tr>\n",
              "  </tbody>\n",
              "</table>\n",
              "</div>\n",
              "    <div class=\"colab-df-buttons\">\n",
              "\n",
              "  <div class=\"colab-df-container\">\n",
              "    <button class=\"colab-df-convert\" onclick=\"convertToInteractive('df-876be6b2-a5cd-4bdf-953e-45fcb0c12ede')\"\n",
              "            title=\"Convert this dataframe to an interactive table.\"\n",
              "            style=\"display:none;\">\n",
              "\n",
              "  <svg xmlns=\"http://www.w3.org/2000/svg\" height=\"24px\" viewBox=\"0 -960 960 960\">\n",
              "    <path d=\"M120-120v-720h720v720H120Zm60-500h600v-160H180v160Zm220 220h160v-160H400v160Zm0 220h160v-160H400v160ZM180-400h160v-160H180v160Zm440 0h160v-160H620v160ZM180-180h160v-160H180v160Zm440 0h160v-160H620v160Z\"/>\n",
              "  </svg>\n",
              "    </button>\n",
              "\n",
              "  <style>\n",
              "    .colab-df-container {\n",
              "      display:flex;\n",
              "      gap: 12px;\n",
              "    }\n",
              "\n",
              "    .colab-df-convert {\n",
              "      background-color: #E8F0FE;\n",
              "      border: none;\n",
              "      border-radius: 50%;\n",
              "      cursor: pointer;\n",
              "      display: none;\n",
              "      fill: #1967D2;\n",
              "      height: 32px;\n",
              "      padding: 0 0 0 0;\n",
              "      width: 32px;\n",
              "    }\n",
              "\n",
              "    .colab-df-convert:hover {\n",
              "      background-color: #E2EBFA;\n",
              "      box-shadow: 0px 1px 2px rgba(60, 64, 67, 0.3), 0px 1px 3px 1px rgba(60, 64, 67, 0.15);\n",
              "      fill: #174EA6;\n",
              "    }\n",
              "\n",
              "    .colab-df-buttons div {\n",
              "      margin-bottom: 4px;\n",
              "    }\n",
              "\n",
              "    [theme=dark] .colab-df-convert {\n",
              "      background-color: #3B4455;\n",
              "      fill: #D2E3FC;\n",
              "    }\n",
              "\n",
              "    [theme=dark] .colab-df-convert:hover {\n",
              "      background-color: #434B5C;\n",
              "      box-shadow: 0px 1px 3px 1px rgba(0, 0, 0, 0.15);\n",
              "      filter: drop-shadow(0px 1px 2px rgba(0, 0, 0, 0.3));\n",
              "      fill: #FFFFFF;\n",
              "    }\n",
              "  </style>\n",
              "\n",
              "    <script>\n",
              "      const buttonEl =\n",
              "        document.querySelector('#df-876be6b2-a5cd-4bdf-953e-45fcb0c12ede button.colab-df-convert');\n",
              "      buttonEl.style.display =\n",
              "        google.colab.kernel.accessAllowed ? 'block' : 'none';\n",
              "\n",
              "      async function convertToInteractive(key) {\n",
              "        const element = document.querySelector('#df-876be6b2-a5cd-4bdf-953e-45fcb0c12ede');\n",
              "        const dataTable =\n",
              "          await google.colab.kernel.invokeFunction('convertToInteractive',\n",
              "                                                    [key], {});\n",
              "        if (!dataTable) return;\n",
              "\n",
              "        const docLinkHtml = 'Like what you see? Visit the ' +\n",
              "          '<a target=\"_blank\" href=https://colab.research.google.com/notebooks/data_table.ipynb>data table notebook</a>'\n",
              "          + ' to learn more about interactive tables.';\n",
              "        element.innerHTML = '';\n",
              "        dataTable['output_type'] = 'display_data';\n",
              "        await google.colab.output.renderOutput(dataTable, element);\n",
              "        const docLink = document.createElement('div');\n",
              "        docLink.innerHTML = docLinkHtml;\n",
              "        element.appendChild(docLink);\n",
              "      }\n",
              "    </script>\n",
              "  </div>\n",
              "\n",
              "\n",
              "    <div id=\"df-da449586-3cc3-4319-afe7-125807de3338\">\n",
              "      <button class=\"colab-df-quickchart\" onclick=\"quickchart('df-da449586-3cc3-4319-afe7-125807de3338')\"\n",
              "                title=\"Suggest charts\"\n",
              "                style=\"display:none;\">\n",
              "\n",
              "<svg xmlns=\"http://www.w3.org/2000/svg\" height=\"24px\"viewBox=\"0 0 24 24\"\n",
              "     width=\"24px\">\n",
              "    <g>\n",
              "        <path d=\"M19 3H5c-1.1 0-2 .9-2 2v14c0 1.1.9 2 2 2h14c1.1 0 2-.9 2-2V5c0-1.1-.9-2-2-2zM9 17H7v-7h2v7zm4 0h-2V7h2v10zm4 0h-2v-4h2v4z\"/>\n",
              "    </g>\n",
              "</svg>\n",
              "      </button>\n",
              "\n",
              "<style>\n",
              "  .colab-df-quickchart {\n",
              "      --bg-color: #E8F0FE;\n",
              "      --fill-color: #1967D2;\n",
              "      --hover-bg-color: #E2EBFA;\n",
              "      --hover-fill-color: #174EA6;\n",
              "      --disabled-fill-color: #AAA;\n",
              "      --disabled-bg-color: #DDD;\n",
              "  }\n",
              "\n",
              "  [theme=dark] .colab-df-quickchart {\n",
              "      --bg-color: #3B4455;\n",
              "      --fill-color: #D2E3FC;\n",
              "      --hover-bg-color: #434B5C;\n",
              "      --hover-fill-color: #FFFFFF;\n",
              "      --disabled-bg-color: #3B4455;\n",
              "      --disabled-fill-color: #666;\n",
              "  }\n",
              "\n",
              "  .colab-df-quickchart {\n",
              "    background-color: var(--bg-color);\n",
              "    border: none;\n",
              "    border-radius: 50%;\n",
              "    cursor: pointer;\n",
              "    display: none;\n",
              "    fill: var(--fill-color);\n",
              "    height: 32px;\n",
              "    padding: 0;\n",
              "    width: 32px;\n",
              "  }\n",
              "\n",
              "  .colab-df-quickchart:hover {\n",
              "    background-color: var(--hover-bg-color);\n",
              "    box-shadow: 0 1px 2px rgba(60, 64, 67, 0.3), 0 1px 3px 1px rgba(60, 64, 67, 0.15);\n",
              "    fill: var(--button-hover-fill-color);\n",
              "  }\n",
              "\n",
              "  .colab-df-quickchart-complete:disabled,\n",
              "  .colab-df-quickchart-complete:disabled:hover {\n",
              "    background-color: var(--disabled-bg-color);\n",
              "    fill: var(--disabled-fill-color);\n",
              "    box-shadow: none;\n",
              "  }\n",
              "\n",
              "  .colab-df-spinner {\n",
              "    border: 2px solid var(--fill-color);\n",
              "    border-color: transparent;\n",
              "    border-bottom-color: var(--fill-color);\n",
              "    animation:\n",
              "      spin 1s steps(1) infinite;\n",
              "  }\n",
              "\n",
              "  @keyframes spin {\n",
              "    0% {\n",
              "      border-color: transparent;\n",
              "      border-bottom-color: var(--fill-color);\n",
              "      border-left-color: var(--fill-color);\n",
              "    }\n",
              "    20% {\n",
              "      border-color: transparent;\n",
              "      border-left-color: var(--fill-color);\n",
              "      border-top-color: var(--fill-color);\n",
              "    }\n",
              "    30% {\n",
              "      border-color: transparent;\n",
              "      border-left-color: var(--fill-color);\n",
              "      border-top-color: var(--fill-color);\n",
              "      border-right-color: var(--fill-color);\n",
              "    }\n",
              "    40% {\n",
              "      border-color: transparent;\n",
              "      border-right-color: var(--fill-color);\n",
              "      border-top-color: var(--fill-color);\n",
              "    }\n",
              "    60% {\n",
              "      border-color: transparent;\n",
              "      border-right-color: var(--fill-color);\n",
              "    }\n",
              "    80% {\n",
              "      border-color: transparent;\n",
              "      border-right-color: var(--fill-color);\n",
              "      border-bottom-color: var(--fill-color);\n",
              "    }\n",
              "    90% {\n",
              "      border-color: transparent;\n",
              "      border-bottom-color: var(--fill-color);\n",
              "    }\n",
              "  }\n",
              "</style>\n",
              "\n",
              "      <script>\n",
              "        async function quickchart(key) {\n",
              "          const quickchartButtonEl =\n",
              "            document.querySelector('#' + key + ' button');\n",
              "          quickchartButtonEl.disabled = true;  // To prevent multiple clicks.\n",
              "          quickchartButtonEl.classList.add('colab-df-spinner');\n",
              "          try {\n",
              "            const charts = await google.colab.kernel.invokeFunction(\n",
              "                'suggestCharts', [key], {});\n",
              "          } catch (error) {\n",
              "            console.error('Error during call to suggestCharts:', error);\n",
              "          }\n",
              "          quickchartButtonEl.classList.remove('colab-df-spinner');\n",
              "          quickchartButtonEl.classList.add('colab-df-quickchart-complete');\n",
              "        }\n",
              "        (() => {\n",
              "          let quickchartButtonEl =\n",
              "            document.querySelector('#df-da449586-3cc3-4319-afe7-125807de3338 button');\n",
              "          quickchartButtonEl.style.display =\n",
              "            google.colab.kernel.accessAllowed ? 'block' : 'none';\n",
              "        })();\n",
              "      </script>\n",
              "    </div>\n",
              "\n",
              "  <div id=\"id_8cd25bcb-e02d-4792-a5d9-889e2878ac13\">\n",
              "    <style>\n",
              "      .colab-df-generate {\n",
              "        background-color: #E8F0FE;\n",
              "        border: none;\n",
              "        border-radius: 50%;\n",
              "        cursor: pointer;\n",
              "        display: none;\n",
              "        fill: #1967D2;\n",
              "        height: 32px;\n",
              "        padding: 0 0 0 0;\n",
              "        width: 32px;\n",
              "      }\n",
              "\n",
              "      .colab-df-generate:hover {\n",
              "        background-color: #E2EBFA;\n",
              "        box-shadow: 0px 1px 2px rgba(60, 64, 67, 0.3), 0px 1px 3px 1px rgba(60, 64, 67, 0.15);\n",
              "        fill: #174EA6;\n",
              "      }\n",
              "\n",
              "      [theme=dark] .colab-df-generate {\n",
              "        background-color: #3B4455;\n",
              "        fill: #D2E3FC;\n",
              "      }\n",
              "\n",
              "      [theme=dark] .colab-df-generate:hover {\n",
              "        background-color: #434B5C;\n",
              "        box-shadow: 0px 1px 3px 1px rgba(0, 0, 0, 0.15);\n",
              "        filter: drop-shadow(0px 1px 2px rgba(0, 0, 0, 0.3));\n",
              "        fill: #FFFFFF;\n",
              "      }\n",
              "    </style>\n",
              "    <button class=\"colab-df-generate\" onclick=\"generateWithVariable('canada_df')\"\n",
              "            title=\"Generate code using this dataframe.\"\n",
              "            style=\"display:none;\">\n",
              "\n",
              "  <svg xmlns=\"http://www.w3.org/2000/svg\" height=\"24px\"viewBox=\"0 0 24 24\"\n",
              "       width=\"24px\">\n",
              "    <path d=\"M7,19H8.4L18.45,9,17,7.55,7,17.6ZM5,21V16.75L18.45,3.32a2,2,0,0,1,2.83,0l1.4,1.43a1.91,1.91,0,0,1,.58,1.4,1.91,1.91,0,0,1-.58,1.4L9.25,21ZM18.45,9,17,7.55Zm-12,3A5.31,5.31,0,0,0,4.9,8.1,5.31,5.31,0,0,0,1,6.5,5.31,5.31,0,0,0,4.9,4.9,5.31,5.31,0,0,0,6.5,1,5.31,5.31,0,0,0,8.1,4.9,5.31,5.31,0,0,0,12,6.5,5.46,5.46,0,0,0,6.5,12Z\"/>\n",
              "  </svg>\n",
              "    </button>\n",
              "    <script>\n",
              "      (() => {\n",
              "      const buttonEl =\n",
              "        document.querySelector('#id_8cd25bcb-e02d-4792-a5d9-889e2878ac13 button.colab-df-generate');\n",
              "      buttonEl.style.display =\n",
              "        google.colab.kernel.accessAllowed ? 'block' : 'none';\n",
              "\n",
              "      buttonEl.onclick = () => {\n",
              "        google.colab.notebook.generateWithVariable('canada_df');\n",
              "      }\n",
              "      })();\n",
              "    </script>\n",
              "  </div>\n",
              "\n",
              "    </div>\n",
              "  </div>\n"
            ],
            "application/vnd.google.colaboratory.intrinsic+json": {
              "type": "dataframe",
              "variable_name": "canada_df",
              "summary": "{\n  \"name\": \"canada_df\",\n  \"rows\": 2,\n  \"fields\": [\n    {\n      \"column\": \"Population\",\n      \"properties\": {\n        \"dtype\": \"number\",\n        \"std\": 1594371,\n        \"min\": 675218,\n        \"max\": 2930000,\n        \"num_unique_values\": 2,\n        \"samples\": [\n          675218,\n          2930000\n        ],\n        \"semantic_type\": \"\",\n        \"description\": \"\"\n      }\n    },\n    {\n      \"column\": \"Temperature\",\n      \"properties\": {\n        \"dtype\": \"number\",\n        \"std\": 4,\n        \"min\": 21,\n        \"max\": 28,\n        \"num_unique_values\": 2,\n        \"samples\": [\n          21,\n          28\n        ],\n        \"semantic_type\": \"\",\n        \"description\": \"\"\n      }\n    }\n  ]\n}"
            }
          },
          "metadata": {},
          "execution_count": 89
        }
      ]
    },
    {
      "cell_type": "code",
      "source": [
        "hot_days =  canada_df[canada_df ['Temperature'] > 20]\n",
        "print(hot_days)"
      ],
      "metadata": {
        "colab": {
          "base_uri": "https://localhost:8080/"
        },
        "id": "XUfr9mQMFnFu",
        "outputId": "07edc056-c523-4561-8a71-8fca11e42259"
      },
      "execution_count": 90,
      "outputs": [
        {
          "output_type": "stream",
          "name": "stdout",
          "text": [
            "                      Population  Temperature\n",
            "City      Date                               \n",
            "Toronto   2023-07-03     2930000           28\n",
            "Vancouver 2023-07-02      675218           21\n"
          ]
        }
      ]
    },
    {
      "cell_type": "code",
      "source": [
        "# Using the DataFrame from the previous example\n",
        "# Filter cities with population over 3 million\n",
        "filtered_df = df[df['Population'] > 3000000]\n",
        "print(filtered_df)"
      ],
      "metadata": {
        "id": "IeAhkNDbPZ0C"
      },
      "execution_count": null,
      "outputs": []
    },
    {
      "cell_type": "code",
      "source": [],
      "metadata": {
        "id": "OcHy-0AaSLDf"
      },
      "execution_count": null,
      "outputs": []
    },
    {
      "cell_type": "code",
      "source": [],
      "metadata": {
        "id": "HJvZcg-RSLID"
      },
      "execution_count": null,
      "outputs": []
    },
    {
      "cell_type": "code",
      "source": [],
      "metadata": {
        "id": "WxwMBWOOSLLm"
      },
      "execution_count": null,
      "outputs": []
    },
    {
      "cell_type": "code",
      "source": [
        "import matplotlib.pyplot as plt"
      ],
      "metadata": {
        "id": "sdHVH4eoSLO5"
      },
      "execution_count": null,
      "outputs": []
    },
    {
      "cell_type": "code",
      "source": [
        "fig, ax = plt.subplots()  # Create a figure containing a single axes."
      ],
      "metadata": {
        "id": "PQcbDBuASLSj"
      },
      "execution_count": null,
      "outputs": []
    },
    {
      "cell_type": "code",
      "source": [
        "# Sample data\n",
        "x = [1, 2, 3, 4]\n",
        "y = [10, 20, 25, 30]\n",
        "\n",
        "# Create a new figure\n",
        "plt.figure()\n",
        "\n",
        "# Plot x and y\n",
        "plt.plot(x, y)\n",
        "\n",
        "# Show the plot\n",
        "plt.show()"
      ],
      "metadata": {
        "id": "-P_Fx8-rSQbf"
      },
      "execution_count": null,
      "outputs": []
    },
    {
      "cell_type": "code",
      "source": [
        "plt.plot(x, y, color='green', linestyle='--', linewidth=2,\n",
        "         marker='o', markerfacecolor='blue', markersize=10)\n",
        "plt.show()"
      ],
      "metadata": {
        "id": "C58u7CNwUnuJ"
      },
      "execution_count": null,
      "outputs": []
    },
    {
      "cell_type": "code",
      "source": [
        "plt.plot(x, y, label='x squared')\n",
        "plt.xlabel('X Axis')\n",
        "plt.ylabel('Y Axis')\n",
        "plt.title('Line Plot Example')\n",
        "plt.legend()\n",
        "plt.show()"
      ],
      "metadata": {
        "id": "kZLmSxtpUtWK"
      },
      "execution_count": null,
      "outputs": []
    },
    {
      "cell_type": "code",
      "source": [
        "y2 = [x_i**3 for x_i in x]\n",
        "plt.plot(x, y, label='x squared')\n",
        "plt.plot(x, y2, label='x cubed', color='red')\n",
        "plt.legend()\n",
        "plt.show()"
      ],
      "metadata": {
        "id": "uLwH_sJiUy11"
      },
      "execution_count": null,
      "outputs": []
    },
    {
      "cell_type": "code",
      "source": [
        "# Sample data\n",
        "categories = ['Category A', 'Category B', 'Category C']\n",
        "values = [3, 7, 2]\n",
        "\n",
        "# Create a bar chart\n",
        "plt.bar(categories, values)\n",
        "\n",
        "# Show the plot\n",
        "plt.show()"
      ],
      "metadata": {
        "id": "s5S5xvOmSYUc"
      },
      "execution_count": null,
      "outputs": []
    },
    {
      "cell_type": "code",
      "source": [
        "import matplotlib.pyplot as plt\n",
        "\n",
        "categories = ['Apples', 'Bananas', 'Oranges', 'Grapes']\n",
        "values = [20, 35, 30, 15]\n",
        "\n",
        "plt.bar(categories, values)\n",
        "plt.title('Fruit Sales Data')\n",
        "plt.xlabel('Fruit')\n",
        "plt.ylabel('Sales')\n",
        "plt.show()"
      ],
      "metadata": {
        "id": "rHrCcPiuTIiB"
      },
      "execution_count": null,
      "outputs": []
    },
    {
      "cell_type": "code",
      "source": [
        "plt.barh(categories, values) #Horizontal Bars\n",
        "plt.title('Fruit Sales Data')\n",
        "plt.xlabel('Sales')\n",
        "plt.ylabel('Fruit')\n",
        "plt.show()"
      ],
      "metadata": {
        "id": "zmr9SgT3TLG_"
      },
      "execution_count": null,
      "outputs": []
    },
    {
      "cell_type": "code",
      "source": [
        "plt.bar(categories, values, color=['red', 'green', 'blue', 'purple'], edgecolor='black', hatch='/')\n",
        "plt.title('Customized Fruit Sales Data')\n",
        "plt.xlabel('Fruit')\n",
        "plt.ylabel('Sales')\n",
        "plt.show()"
      ],
      "metadata": {
        "id": "NtT7TW2STNU4"
      },
      "execution_count": null,
      "outputs": []
    },
    {
      "cell_type": "code",
      "source": [
        "import numpy as np\n",
        "\n",
        "values = np.array(values)\n",
        "std_dev = [2, 3, 4, 1]  # Standard deviation for each category\n",
        "\n",
        "plt.bar(categories, values, yerr=std_dev, capsize=5)\n",
        "plt.title('Fruit Sales Data with Error Bars')\n",
        "plt.xlabel('Fruit')\n",
        "plt.ylabel('Sales')\n",
        "plt.show()"
      ],
      "metadata": {
        "id": "44LZdQFVTV4B"
      },
      "execution_count": null,
      "outputs": []
    },
    {
      "cell_type": "code",
      "source": [
        "import matplotlib.pyplot as plt\n",
        "import numpy as np\n",
        "\n",
        "# Sample data\n",
        "data = np.random.normal(0, 1, 1000)\n",
        "\n",
        "# Create a histogram\n",
        "plt.hist(data, bins=30, edgecolor='black')\n",
        "plt.title(\"Histogram of Normally Distributed Data\")\n",
        "plt.xlabel(\"Value\")\n",
        "plt.ylabel(\"Frequency\")\n",
        "plt.show()"
      ],
      "metadata": {
        "id": "Ox6vO15mTeZi"
      },
      "execution_count": null,
      "outputs": []
    },
    {
      "cell_type": "code",
      "source": [
        "# Different bin sizes and colors\n",
        "plt.hist(data, bins=15, color='skyblue', edgecolor='black')\n",
        "plt.title(\"Customized Histogram\")\n",
        "plt.xlabel(\"Value\")\n",
        "plt.ylabel(\"Frequency\")\n",
        "plt.show()"
      ],
      "metadata": {
        "id": "5VrSYAF7Tg6e"
      },
      "execution_count": null,
      "outputs": []
    },
    {
      "cell_type": "code",
      "source": [
        "# Additional data for comparison\n",
        "data2 = np.random.normal(5, 1.5, 1000)\n",
        "\n",
        "# Create overlapping histograms\n",
        "plt.hist(data, bins=30, alpha=0.5, label='Dataset 1', edgecolor='black')\n",
        "plt.hist(data2, bins=30, alpha=0.5, label='Dataset 2', color='orange', edgecolor='black')\n",
        "plt.title(\"Comparing Two Distributions\")\n",
        "plt.xlabel(\"Value\")\n",
        "plt.ylabel(\"Frequency\")\n",
        "plt.legend()\n",
        "plt.show()"
      ],
      "metadata": {
        "id": "3nZTtpvyTnDq"
      },
      "execution_count": null,
      "outputs": []
    },
    {
      "cell_type": "code",
      "source": [
        "x = [5, 20, 40, 60, 80]\n",
        "y = [25, 48, 85, 105, 125]\n",
        "\n",
        "plt.scatter(x, y)\n",
        "plt.title('Basic Scatter Plot')\n",
        "plt.xlabel('X')\n",
        "plt.ylabel('Y')\n",
        "plt.show()\n"
      ],
      "metadata": {
        "id": "picKBkg5Vnaz"
      },
      "execution_count": null,
      "outputs": []
    },
    {
      "cell_type": "code",
      "source": [
        "np.random.seed(0)\n",
        "x = np.random.rand(25)\n",
        "y = np.random.rand(25)\n",
        "colors = np.random.rand(25)\n",
        "sizes = 1000 * np.random.rand(25)\n",
        "\n",
        "plt.scatter(x, y, c=colors, s=sizes, alpha=0.3, cmap='viridis')\n",
        "plt.colorbar()\n",
        "plt.title('Custom Scatter Plot')\n",
        "plt.show()\n"
      ],
      "metadata": {
        "id": "HXie9tdpVpg7"
      },
      "execution_count": null,
      "outputs": []
    },
    {
      "cell_type": "code",
      "source": [
        "import matplotlib.pyplot as plt\n",
        "\n",
        "# Data\n",
        "brands = ['Apple', 'Samsung', 'Huawei', 'Xiaomi', 'Others']\n",
        "market_share = [40, 30, 15, 10, 5]\n",
        "\n",
        "# Create a pie chart\n",
        "plt.figure(figsize=(8, 8))\n",
        "plt.pie(market_share, labels=brands, autopct='%1.1f%%')\n",
        "plt.title('Smartphone Market Share 2023')\n",
        "plt.show()"
      ],
      "metadata": {
        "id": "nIJ5LnFygQnR"
      },
      "execution_count": null,
      "outputs": []
    },
    {
      "cell_type": "code",
      "source": [
        "explode = (0.1, 0, 0, 0, 0)  # Only explode the first slice (Apple)\n",
        "\n",
        "plt.pie(market_share, labels=brands, autopct='%1.1f%%', explode=explode)\n",
        "plt.title('Smartphone Market Share 2023')\n",
        "plt.show()"
      ],
      "metadata": {
        "id": "TG7urdw9gQrD"
      },
      "execution_count": null,
      "outputs": []
    },
    {
      "cell_type": "code",
      "source": [
        "colors = ['gold', 'lightblue', 'lightgreen', 'orange', 'purple']\n",
        "\n",
        "plt.pie(market_share, labels=brands, autopct='%1.1f%%', colors=colors)\n",
        "plt.title('Smartphone Market Share 2023')\n",
        "plt.show()"
      ],
      "metadata": {
        "id": "5wC9akxggQtv"
      },
      "execution_count": null,
      "outputs": []
    },
    {
      "cell_type": "code",
      "source": [
        "plt.pie(market_share, labels=brands, autopct='%1.1f%%', shadow=True)\n",
        "plt.title('Smartphone Market Share 2023')\n",
        "plt.show()"
      ],
      "metadata": {
        "id": "wENIQZAdgQwD"
      },
      "execution_count": null,
      "outputs": []
    },
    {
      "cell_type": "code",
      "source": [
        "import matplotlib.pyplot as plt\n",
        "import numpy as np\n",
        "\n",
        "# Sample data\n",
        "data = np.random.randn(100)\n",
        "\n",
        "plt.boxplot(data)\n",
        "plt.title('Basic Box Plot')\n",
        "plt.ylabel('Values')\n",
        "plt.show()"
      ],
      "metadata": {
        "id": "W8pMZy_OgQ1L"
      },
      "execution_count": null,
      "outputs": []
    },
    {
      "cell_type": "code",
      "source": [
        "data1 = np.random.normal(100, 10, 200)\n",
        "data2 = np.random.normal(90, 20, 200)\n",
        "data3 = np.random.normal(80, 30, 200)\n",
        "\n",
        "data = [data1, data2, data3]\n",
        "\n",
        "fig = plt.figure(figsize =(10, 7))\n",
        "ax = fig.add_subplot(111)\n",
        "\n",
        "# Creating axes instance and the box plot\n",
        "bp = ax.boxplot(data, patch_artist = True, notch = True, vert = 0)\n",
        "\n",
        "# Changing color and line width of the whiskers\n",
        "for whisker in bp['whiskers']:\n",
        "    whisker.set(color ='blue', linewidth = 1.5, linestyle =\":\")\n",
        "\n",
        "# Changing color and line width of the caps\n",
        "for cap in bp['caps']:\n",
        "    cap.set(color ='red', linewidth = 2)\n",
        "\n",
        "# Changing color and linewidth of the medians\n",
        "for median in bp['medians']:\n",
        "    median.set(color ='green', linewidth = 3)\n",
        "\n",
        "# Changing style of fliers\n",
        "for flier in bp['fliers']:\n",
        "    flier.set(marker ='D', color ='#e7298a', alpha = 0.5)\n",
        "\n",
        "# Adding title\n",
        "plt.title('Customized Box Plot')\n",
        "plt.show()"
      ],
      "metadata": {
        "id": "M4bppiTwh6c6"
      },
      "execution_count": null,
      "outputs": []
    },
    {
      "cell_type": "code",
      "source": [
        "import matplotlib.pyplot as plt\n",
        "\n",
        "# Create a figure and a set of subplots\n",
        "fig, (ax1, ax2) = plt.subplots(2, 1)\n",
        "\n",
        "# First subplot\n",
        "ax1.plot([1, 2, 3], [1, 4, 9])\n",
        "ax1.set_title('First Subplot')\n",
        "\n",
        "# Second subplot\n",
        "ax2.plot([1, 2, 3], [1, 2, 3])\n",
        "ax2.set_title('Second Subplot')\n",
        "\n",
        "\n",
        "# Adjust spacing to prevent overlap\n",
        "#plt.tight_layout()\n",
        "\n",
        "\n",
        "# Show the figure\n",
        "plt.show()"
      ],
      "metadata": {
        "id": "pww4YTICh7Fa"
      },
      "execution_count": null,
      "outputs": []
    },
    {
      "cell_type": "code",
      "source": [
        "fig, (ax1, ax2) = plt.subplots(1, 2)\n",
        "\n",
        "ax1.plot([1, 2, 3], [2, 3, 4])\n",
        "ax2.plot([1, 2, 3], [4, 3, 2])\n",
        "\n",
        "plt.show()"
      ],
      "metadata": {
        "id": "0cnIgNApkehR"
      },
      "execution_count": null,
      "outputs": []
    },
    {
      "cell_type": "code",
      "source": [
        "# Creating a 2x2 grid of subplots\n",
        "fig, axs = plt.subplots(2, 2)\n",
        "\n",
        "# Plotting different types of plots\n",
        "axs[0, 0].plot([1, 2, 3], [3, 2, 1])\n",
        "axs[0, 1].bar(['A', 'B', 'C'], [3, 2, 1])\n",
        "axs[1, 0].scatter([1, 2, 3], [1, 4, 9])\n",
        "axs[1, 1].hist([1, 1, 2, 3, 3, 3, 4, 4], bins=[1, 2, 3, 4, 5])\n",
        "plt.tight_layout()\n",
        "plt.show()"
      ],
      "metadata": {
        "id": "WfWHufjqh7J7"
      },
      "execution_count": null,
      "outputs": []
    },
    {
      "cell_type": "code",
      "source": [
        "import matplotlib.pyplot as plt\n",
        "import numpy as np\n",
        "\n",
        "x = np.linspace(0, 10, 100)\n",
        "y = np.sin(x)\n",
        "\n",
        "plt.plot(x, y)\n",
        "plt.xlim(0, 10)  # setting x-axis limit\n",
        "plt.ylim(-1.5, 1.5)  # setting y-axis limit\n",
        "plt.grid(True, which='both', linestyle='--', linewidth=0.5)  # custom grid lines\n",
        "plt.title(\"Sine Wave with Custom Axes and Grid\")\n",
        "plt.show()"
      ],
      "metadata": {
        "id": "RQwIAmaEkerY"
      },
      "execution_count": null,
      "outputs": []
    },
    {
      "cell_type": "code",
      "source": [
        "plt.plot(x, y)\n",
        "plt.title(\"Sine Wave with Annotation\")\n",
        "plt.annotate('Local Max', xy=(1.5, 1), xytext=(3, 1.5),\n",
        "             arrowprops=dict(facecolor='black', shrink=0.05))\n",
        "plt.show()"
      ],
      "metadata": {
        "id": "AuuOrLU_nKsX"
      },
      "execution_count": null,
      "outputs": []
    },
    {
      "cell_type": "code",
      "source": [
        "plt.style.use('ggplot')  # using ggplot style\n",
        "plt.plot(x, y)\n",
        "plt.title(\"Sine Wave with ggplot Style\")\n",
        "plt.show()"
      ],
      "metadata": {
        "id": "ZL256dqqnK0z"
      },
      "execution_count": null,
      "outputs": []
    },
    {
      "cell_type": "code",
      "source": [
        "import matplotlib.pyplot as plt\n",
        "from matplotlib.widgets import Slider\n",
        "\n",
        "# Initial data\n",
        "t = np.linspace(0, 1, 1000)\n",
        "initial_freq = 5\n",
        "y = np.sin(2 * np.pi * initial_freq * t)\n",
        "\n",
        "fig, ax = plt.subplots()\n",
        "plt.subplots_adjust(left=0.1, bottom=0.25)\n",
        "l, = ax.plot(t, y)\n",
        "\n",
        "# Slider\n",
        "axfreq = plt.axes([0.1, 0.1, 0.65, 0.03])\n",
        "freq_slider = Slider(axfreq, 'Freq', 0.1, 30.0, valinit=initial_freq)\n",
        "\n",
        "# Update function\n",
        "def update(val):\n",
        "    freq = freq_slider.val\n",
        "    l.set_ydata(np.sin(2 * np.pi * freq * t))\n",
        "    fig.canvas.draw_idle()\n",
        "\n",
        "# Connect the update function to the slider\n",
        "freq_slider.on_changed(update)\n",
        "\n",
        "plt.show()"
      ],
      "metadata": {
        "id": "-915v4VbnK7S"
      },
      "execution_count": null,
      "outputs": []
    },
    {
      "cell_type": "code",
      "source": [
        "# Import required libraries\n",
        "import numpy as np                                # For numerical operations and array creation\n",
        "import matplotlib.pyplot as plt                   # For plotting functions\n",
        "from ipywidgets import interact                   # For easy creation of interactive widgets\n",
        "import ipywidgets as widgets                      # Full widgets library for customizing sliders and controls\n",
        "\n",
        "# Generate 1000 evenly spaced time values between 0 and 1 second\n",
        "t = np.linspace(0, 1, 1000)\n",
        "\n",
        "# Define a function to plot a sine wave with a given frequency\n",
        "def plot_sine(freq=5.0):\n",
        "    y = np.sin(2 * np.pi * freq * t)              # Calculate the sine wave values for the given frequency\n",
        "    plt.figure(figsize=(8, 3))                    # Create a new figure with custom size (8x3 inches)\n",
        "    plt.plot(t, y)                                # Plot time (t) vs sine wave values (y)\n",
        "    plt.title(f\"Sine Wave (Frequency = {freq:.1f} Hz)\")  # Add a title showing the current frequency\n",
        "    plt.xlabel(\"Time (s)\")                        # Label for the x-axis\n",
        "    plt.ylabel(\"Amplitude\")                       # Label for the y-axis\n",
        "    plt.grid(True)                                # Add a grid to the plot for better readability\n",
        "    plt.ylim(-1.5, 1.5)                           # Set consistent y-axis limits to avoid plot resizing\n",
        "    plt.show()                                    # Display the plot\n",
        "\n",
        "# Create an interactive slider for frequency and connect it to the plot_sine function\n",
        "# FloatSlider allows choosing float values between 0.1 and 30.0 with step of 0.1\n",
        "interact(plot_sine, freq=widgets.FloatSlider(value=5.0, min=0.1, max=30.0, step=0.1))\n"
      ],
      "metadata": {
        "id": "C0T_sBomo8fM"
      },
      "execution_count": null,
      "outputs": []
    },
    {
      "cell_type": "code",
      "source": [
        "# Import necessary libraries\n",
        "import numpy as np                                # NumPy for numerical operations and arrays\n",
        "import matplotlib.pyplot as plt                   # Pyplot for plotting from Matplotlib\n",
        "from matplotlib.animation import FuncAnimation    # FuncAnimation for creating animations\n",
        "from IPython.display import HTML                  # HTML display for rendering animations in Colab\n",
        "\n",
        "# Create a new figure and axis for the plot\n",
        "fig, ax = plt.subplots()                          # fig is the Figure object, ax is the Axes object\n",
        "\n",
        "# Initialize empty lists to store x and y values\n",
        "xdata, ydata = [], []\n",
        "\n",
        "# Create an empty line object (ln) to update during the animation\n",
        "# 'r-' sets the line color to red and solid\n",
        "ln, = ax.plot([], [], 'r-', animated=True)\n",
        "\n",
        "# Define the initialization function for the animation\n",
        "def init():\n",
        "    ax.set_xlim(0, 2 * np.pi)                     # Set x-axis range from 0 to 2π\n",
        "    ax.set_ylim(-1, 1)                            # Set y-axis range from -1 to 1_\n"
      ],
      "metadata": {
        "id": "oeiL7c7epdNN"
      },
      "execution_count": null,
      "outputs": []
    }
  ]
}